{
 "cells": [
  {
   "cell_type": "code",
   "execution_count": 1,
   "metadata": {},
   "outputs": [],
   "source": [
    "import numpy as np\n",
    "from PIL import Image\n",
    "import matplotlib.pyplot as plt"
   ]
  },
  {
   "cell_type": "code",
   "execution_count": 9,
   "metadata": {},
   "outputs": [],
   "source": [
    "def resize_image(input_path, size=(224, 224)):\n",
    "    # Abrir la imagen\n",
    "    image = Image.open(input_path).convert(\"L\")  # Convertir a escala de grises\n",
    "    \n",
    "    # Obtener tamaño original\n",
    "    original_width, original_height = image.size\n",
    "    aspect_ratio = original_width / original_height\n",
    "    \n",
    "    # Calcular nuevo tamaño\n",
    "    if aspect_ratio > 1:\n",
    "        # Imagen más ancha que alta\n",
    "        new_width = size[0]\n",
    "        new_height = int(new_width / aspect_ratio)\n",
    "    else:\n",
    "        # Imagen más alta que ancha\n",
    "        new_height = size[1]\n",
    "        new_width = int(new_height * aspect_ratio)\n",
    "    \n",
    "    # Redimensionar la imagen manteniendo la relación de aspecto\n",
    "    # si la imagen es mas chica que el tamaño deseado, uso interpolación LANCZOS, sino LINEAL\n",
    "    if original_width < size[0] or original_height < size[1]:\n",
    "        resized_image = image.resize((new_width, new_height), Image.LANCZOS)\n",
    "    else:\n",
    "        resized_image = image.resize((new_width, new_height), Image.BILINEAR)\n",
    "    \n",
    "    # Crear un nuevo fondo de 224x224 y pegar la imagen redimensionada en el centro\n",
    "    new_image = Image.new(\"L\", size)\n",
    "    new_image.paste(resized_image, ((size[0] - new_width) // 2, (size[1] - new_height) // 2))\n",
    "    \n",
    "    return new_image"
   ]
  },
  {
   "cell_type": "code",
   "execution_count": 15,
   "metadata": {},
   "outputs": [
    {
     "name": "stdout",
     "output_type": "stream",
     "text": [
      "original image size: (178, 218)\n",
      "resized image size: (224, 224)\n"
     ]
    }
   ],
   "source": [
    "# show original image\n",
    "image = Image.open(\"CelebA/celebA/img_align_celeba/img_align_celeba/125478.jpg\")\n",
    "image.show()\n",
    "\n",
    "# image size\n",
    "print(\"original image size:\", image.size)\n",
    "\n",
    "# resize image\n",
    "resized_image = resize_image(\"CelebA/celebA/img_align_celeba/img_align_celeba/125478.jpg\", size=(224, 224))\n",
    "resized_image.show()\n",
    "\n",
    "# resized image size\n",
    "print(\"resized image size:\", resized_image.size)"
   ]
  },
  {
   "cell_type": "code",
   "execution_count": 16,
   "metadata": {},
   "outputs": [],
   "source": [
    "# save resized image as jpg\n",
    "resized_image.save(\"125478_resized.jpg\")"
   ]
  },
  {
   "cell_type": "code",
   "execution_count": 10,
   "metadata": {},
   "outputs": [],
   "source": [
    "# probar de redimensionar la imagen a 112x112\n",
    "resized_image = resize_image(\"CelebA/celebA/img_align_celeba/img_align_celeba/125478.jpg\", size=(112, 112))\n",
    "resized_image.show()"
   ]
  }
 ],
 "metadata": {
  "kernelspec": {
   "display_name": "ml",
   "language": "python",
   "name": "python3"
  },
  "language_info": {
   "codemirror_mode": {
    "name": "ipython",
    "version": 3
   },
   "file_extension": ".py",
   "mimetype": "text/x-python",
   "name": "python",
   "nbconvert_exporter": "python",
   "pygments_lexer": "ipython3",
   "version": "3.8.18"
  }
 },
 "nbformat": 4,
 "nbformat_minor": 2
}
